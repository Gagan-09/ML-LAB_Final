{
 "cells": [
  {
   "cell_type": "code",
   "execution_count": 4,
   "id": "da5611a7",
   "metadata": {},
   "outputs": [
    {
     "name": "stdout",
     "output_type": "stream",
     "text": [
      "Visiting node: S \n",
      "Visiting node: B \n",
      "Visiting node: F \n",
      "Goal reached: G\n",
      "Total heuristic cost: 19\n"
     ]
    }
   ],
   "source": [
    "from queue import PriorityQueue\n",
    "\n",
    "def best_first_search(graph, start, goal, heuristic):\n",
    "    visited = set()\n",
    "    pq = PriorityQueue()\n",
    "    pq.put((heuristic[start], start))\n",
    "    total = 0\n",
    "\n",
    "    while not pq.empty():\n",
    "        h, node = pq.get()\n",
    "        total += h\n",
    "        \n",
    "        if node == goal:\n",
    "            print(f\"Goal reached: {node}\")\n",
    "            print(f\"Total heuristic cost: {total}\")\n",
    "            return\n",
    "        \n",
    "        if node not in visited:\n",
    "            print(f\"Visiting node: {node} \")\n",
    "            visited.add(node)\n",
    "            \n",
    "            for neighbor in graph[node]:\n",
    "                if neighbor not in visited:\n",
    "                    pq.put((heuristic[neighbor], neighbor))\n",
    "    \n",
    "    print(\"Goal not found!\")\n",
    "#     print(f\"Total heuristic cost: {total}\")\n",
    "\n",
    "\n",
    "graph = {\n",
    "    'S': ['A', 'B'],\n",
    "    'A': ['C','D'],\n",
    "    'B': ['E', 'F'],\n",
    "    'C':[],\n",
    "    'D': [],\n",
    "    'E': ['H'],\n",
    "    'F': ['I', 'G'],\n",
    "    'H': [],\n",
    "    'I': [],\n",
    "    'G': []\n",
    "}\n",
    "\n",
    "start_node = 'S'\n",
    "goal_node = 'G'\n",
    "\n",
    "heuristic_values = {\n",
    "    'S': 13,\n",
    "    'A': 12,\n",
    "    'B': 4,\n",
    "    'C': 7,\n",
    "    'D': 3,\n",
    "    'E': 8,\n",
    "    'F': 2,\n",
    "    'H': 4,\n",
    "    'I': 9,\n",
    "    'G':0\n",
    "}\n",
    "\n",
    "best_first_search(graph, start_node, goal_node, heuristic_values)"
   ]
  },
  {
   "cell_type": "code",
   "execution_count": null,
   "id": "cb1c8aec",
   "metadata": {},
   "outputs": [],
   "source": []
  }
 ],
 "metadata": {
  "kernelspec": {
   "display_name": "Python 3 (ipykernel)",
   "language": "python",
   "name": "python3"
  },
  "language_info": {
   "codemirror_mode": {
    "name": "ipython",
    "version": 3
   },
   "file_extension": ".py",
   "mimetype": "text/x-python",
   "name": "python",
   "nbconvert_exporter": "python",
   "pygments_lexer": "ipython3",
   "version": "3.9.12"
  }
 },
 "nbformat": 4,
 "nbformat_minor": 5
}
