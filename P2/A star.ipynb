{
 "cells": [
  {
   "cell_type": "code",
   "execution_count": 1,
   "id": "26923f7a",
   "metadata": {},
   "outputs": [
    {
     "name": "stdout",
     "output_type": "stream",
     "text": [
      "Best First Search Path: ['A', 'E', 'D', 'G']\n",
      "Total Cost: 10\n",
      "Number of Nodes Visited: 4\n"
     ]
    }
   ],
   "source": [
    "from queue import PriorityQueue\n",
    "\n",
    "def astar(graph, start, goal, heuristic):\n",
    "    visited = set()\n",
    "    pq = PriorityQueue()\n",
    "    pq.put((0 + heuristic[start], start))\n",
    "    parent = {start: None}\n",
    "    path_cost = {start: 0}\n",
    "    \n",
    "    while not pq.empty():\n",
    "        current_cost, node = pq.get()\n",
    "        \n",
    "        if node == goal:\n",
    "            break\n",
    "        \n",
    "        if node not in visited:\n",
    "            visited.add(node)\n",
    "            for neighbor, edge_cost in graph[node].items():\n",
    "                new_cost = path_cost[node] + edge_cost\n",
    "                if neighbor not in path_cost or new_cost < path_cost[neighbor]:\n",
    "                    path_cost[neighbor] = new_cost\n",
    "                    total_cost = new_cost + heuristic[neighbor]\n",
    "                    pq.put((total_cost, neighbor))\n",
    "                    parent[neighbor] = node\n",
    "    if goal not in parent:\n",
    "        return [], 0\n",
    "    path = []\n",
    "    node = goal\n",
    "    total_cost = 0\n",
    "    while node is not None:\n",
    "        path.append(node)\n",
    "        if parent[node] is not None:\n",
    "            total_cost += graph[parent[node]][node]\n",
    "        node = parent[node]\n",
    "    path.reverse()\n",
    "    \n",
    "    return path, total_cost\n",
    "\n",
    "graph = {\n",
    "    'A': {'B': 2, 'E': 3},\n",
    "    'B': {'C': 1, 'G': 9},\n",
    "    'E': {'D': 6},\n",
    "    'D': {'G': 1},\n",
    "    'C': {},\n",
    "    'G': {}  \n",
    "}\n",
    "\n",
    "start_node = 'A'\n",
    "goal_node = 'G'\n",
    "\n",
    "heuristic_values = {\n",
    "    'A': 11,\n",
    "    'B': 6,\n",
    "    'C': 99,\n",
    "    'E': 7,\n",
    "    'D': 1,\n",
    "    'G': 0\n",
    "}\n",
    "\n",
    "path, total_cost = astar(graph, start_node, goal_node, heuristic_values)\n",
    "if not path:\n",
    "    print(\"No Path Found!\")\n",
    "else:\n",
    "    print(\"Best First Search Path:\", path)\n",
    "    print(\"Total Cost:\", total_cost)\n",
    "    print(\"Number of Nodes Visited:\", len(path))"
   ]
  }
 ],
 "metadata": {
  "kernelspec": {
   "display_name": "Python 3 (ipykernel)",
   "language": "python",
   "name": "python3"
  },
  "language_info": {
   "codemirror_mode": {
    "name": "ipython",
    "version": 3
   },
   "file_extension": ".py",
   "mimetype": "text/x-python",
   "name": "python",
   "nbconvert_exporter": "python",
   "pygments_lexer": "ipython3",
   "version": "3.9.12"
  }
 },
 "nbformat": 4,
 "nbformat_minor": 5
}
