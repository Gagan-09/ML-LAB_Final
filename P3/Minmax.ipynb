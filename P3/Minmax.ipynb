{
 "cells": [
  {
   "cell_type": "code",
   "execution_count": 11,
   "id": "85874df7",
   "metadata": {},
   "outputs": [
    {
     "name": "stdout",
     "output_type": "stream",
     "text": [
      "The optimal value is: 12\n",
      "Full path: Right -> Left -> Left\n"
     ]
    }
   ],
   "source": [
    "def minmax(depth, nodeIndex, maximizingPlayer, values, alpha, beta, path):\n",
    "    # Base case: when we've reached a terminal node (depth == 3)\n",
    "    if depth == 3:\n",
    "        return values[nodeIndex], path\n",
    "\n",
    "    if maximizingPlayer:\n",
    "        best = float('-inf')\n",
    "        best_path = \"\"\n",
    "        for i in range(2):\n",
    "            direction = \"L\" if i == 0 else \"R\"\n",
    "            val, new_path = minmax(depth + 1, nodeIndex * 2 + i, False, values, alpha, beta, path + direction)\n",
    "            if val > best:\n",
    "                best = val\n",
    "                best_path = new_path\n",
    "            # Alpha-beta pruning\n",
    "#             alpha = max(alpha, best)\n",
    "#             if beta <= alpha:\n",
    "#                 break\n",
    "        return best, best_path\n",
    "    else:\n",
    "        best = float('inf')\n",
    "        best_path = \"\"\n",
    "        for i in range(2):\n",
    "            direction = \"L\" if i == 0 else \"R\"\n",
    "            val, new_path = minmax(depth + 1, nodeIndex * 2 + i, True, values, alpha, beta, path + direction)\n",
    "            if val < best:\n",
    "                best = val\n",
    "                best_path = new_path\n",
    "            # Alpha-beta pruning\n",
    "#             beta = min(beta, best)\n",
    "#             if beta <= alpha:\n",
    "#                 break\n",
    "        return best, best_path\n",
    "\n",
    "# Example tree with depth 3 and 8 terminal nodes\n",
    "values = [3, 5, 2, 9, 12, 5, 23, 23]\n",
    "\n",
    "# Start the Min-Max algorithm\n",
    "optimal_value, optimal_path = minmax(0, 0, True, values, float('-inf'), float('inf'), \"\")\n",
    "\n",
    "def get_full_path(path):\n",
    "    full_path = \"\"\n",
    "    for step in path:\n",
    "        if step == \"L\":\n",
    "            full_path += \"Left -> \"\n",
    "        else:\n",
    "            full_path += \"Right -> \"\n",
    "    return full_path[:-4]  # Remove the last arrow and spaces\n",
    "\n",
    "print(\"The optimal value is:\", optimal_value)\n",
    "print(\"Full path:\", get_full_path(optimal_path))\n"
   ]
  },
  {
   "cell_type": "code",
   "execution_count": 12,
   "id": "46b4fd96",
   "metadata": {},
   "outputs": [
    {
     "name": "stdout",
     "output_type": "stream",
     "text": [
      "The optimal value is: 12\n",
      "The path taken is: [0, 1, 2, 4]\n"
     ]
    }
   ],
   "source": [
    "def minmax(depth, nodeIndex, maximizingPlayer, values, alpha, beta, path):\n",
    "    if depth == 3:\n",
    "        return values[nodeIndex], path + [nodeIndex]\n",
    "\n",
    "    if maximizingPlayer:\n",
    "        best = float('-inf')\n",
    "        best_path = []\n",
    "        for i in range(2):\n",
    "            val, new_path = minmax(depth + 1, nodeIndex * 2 + i, False, values, alpha, beta, path + [nodeIndex])\n",
    "            if val > best:\n",
    "                best = val\n",
    "                best_path = new_path\n",
    "        return best, best_path\n",
    "    else:\n",
    "        best = float('inf')\n",
    "        best_path = []\n",
    "        for i in range(2):\n",
    "            val, new_path = minmax(depth + 1, nodeIndex * 2 + i, True, values, alpha, beta, path + [nodeIndex])\n",
    "            if val < best:\n",
    "                best = val\n",
    "                best_path = new_path\n",
    "        return best, best_path\n",
    "\n",
    "# Example tree with depth 3 and 8 terminal nodes\n",
    "values = [3, 5, 2, 9, 12, 5, 23, 23]\n",
    "\n",
    "# Start the Min-Max algorithm\n",
    "optimal_value, optimal_path = minmax(0, 0, True, values, float('-inf'), float('inf'), [])\n",
    "print(\"The optimal value is:\", optimal_value)\n",
    "print(\"The path taken is:\", optimal_path)"
   ]
  }
 ],
 "metadata": {
  "kernelspec": {
   "display_name": "Python 3 (ipykernel)",
   "language": "python",
   "name": "python3"
  },
  "language_info": {
   "codemirror_mode": {
    "name": "ipython",
    "version": 3
   },
   "file_extension": ".py",
   "mimetype": "text/x-python",
   "name": "python",
   "nbconvert_exporter": "python",
   "pygments_lexer": "ipython3",
   "version": "3.9.12"
  }
 },
 "nbformat": 4,
 "nbformat_minor": 5
}
